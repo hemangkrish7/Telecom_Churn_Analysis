{
  "nbformat": 4,
  "nbformat_minor": 0,
  "metadata": {
    "colab": {
      "provenance": [],
      "mount_file_id": "1RSoUKQE6a0c_S5u-6b-CwdYZblCqvBPi",
      "authorship_tag": "ABX9TyMc7sxkqPtdUKSQbQSAZHvr",
      "include_colab_link": true
    },
    "kernelspec": {
      "name": "python3",
      "display_name": "Python 3"
    },
    "language_info": {
      "name": "python"
    }
  },
  "cells": [
    {
      "cell_type": "markdown",
      "metadata": {
        "id": "view-in-github",
        "colab_type": "text"
      },
      "source": [
        "<a href=\"https://colab.research.google.com/github/hemangkrish7/Telecom_Churn_Analysis/blob/main/Churn_Analysis_SQL.ipynb\" target=\"_parent\"><img src=\"https://colab.research.google.com/assets/colab-badge.svg\" alt=\"Open In Colab\"/></a>"
      ]
    },
    {
      "cell_type": "code",
      "source": [
        "import pandas as pd"
      ],
      "metadata": {
        "id": "RDhsluxGTE8f"
      },
      "execution_count": 1,
      "outputs": []
    },
    {
      "cell_type": "code",
      "execution_count": 2,
      "metadata": {
        "id": "ABQL4SowR-U5"
      },
      "outputs": [],
      "source": [
        "df =pd.read_csv('/content/drive/MyDrive/WA_Fn-UseC_-Telco-Customer-Churn.csv')\n"
      ]
    },
    {
      "cell_type": "code",
      "source": [
        "# --- 1. Initial Inspection ---\n",
        "print(\"--- Initial Data Info ---\")\n",
        "# .info() is great for a quick overview: it shows column names, non-null counts, and data types (Dtype).\n",
        "# Pay attention to any columns that might have the wrong data type.\n",
        "df.info()\n",
        "\n",
        "print(\"\\n--- First 5 Rows ---\")\n",
        "# .head() shows you the first few rows to get a feel for the actual data.\n",
        "print(df.head())"
      ],
      "metadata": {
        "colab": {
          "base_uri": "https://localhost:8080/"
        },
        "id": "IZWB2WiCTK7-",
        "outputId": "3a0db782-a81c-4118-c0d3-bde33b1cd3e8"
      },
      "execution_count": 3,
      "outputs": [
        {
          "output_type": "stream",
          "name": "stdout",
          "text": [
            "--- Initial Data Info ---\n",
            "<class 'pandas.core.frame.DataFrame'>\n",
            "RangeIndex: 7043 entries, 0 to 7042\n",
            "Data columns (total 21 columns):\n",
            " #   Column            Non-Null Count  Dtype  \n",
            "---  ------            --------------  -----  \n",
            " 0   customerID        7043 non-null   object \n",
            " 1   gender            7043 non-null   object \n",
            " 2   SeniorCitizen     7043 non-null   int64  \n",
            " 3   Partner           7043 non-null   object \n",
            " 4   Dependents        7043 non-null   object \n",
            " 5   tenure            7043 non-null   int64  \n",
            " 6   PhoneService      7043 non-null   object \n",
            " 7   MultipleLines     7043 non-null   object \n",
            " 8   InternetService   7043 non-null   object \n",
            " 9   OnlineSecurity    7043 non-null   object \n",
            " 10  OnlineBackup      7043 non-null   object \n",
            " 11  DeviceProtection  7043 non-null   object \n",
            " 12  TechSupport       7043 non-null   object \n",
            " 13  StreamingTV       7043 non-null   object \n",
            " 14  StreamingMovies   7043 non-null   object \n",
            " 15  Contract          7043 non-null   object \n",
            " 16  PaperlessBilling  7043 non-null   object \n",
            " 17  PaymentMethod     7043 non-null   object \n",
            " 18  MonthlyCharges    7043 non-null   float64\n",
            " 19  TotalCharges      7043 non-null   object \n",
            " 20  Churn             7043 non-null   object \n",
            "dtypes: float64(1), int64(2), object(18)\n",
            "memory usage: 1.1+ MB\n",
            "\n",
            "--- First 5 Rows ---\n",
            "   customerID  gender  SeniorCitizen Partner Dependents  tenure PhoneService  \\\n",
            "0  7590-VHVEG  Female              0     Yes         No       1           No   \n",
            "1  5575-GNVDE    Male              0      No         No      34          Yes   \n",
            "2  3668-QPYBK    Male              0      No         No       2          Yes   \n",
            "3  7795-CFOCW    Male              0      No         No      45           No   \n",
            "4  9237-HQITU  Female              0      No         No       2          Yes   \n",
            "\n",
            "      MultipleLines InternetService OnlineSecurity  ... DeviceProtection  \\\n",
            "0  No phone service             DSL             No  ...               No   \n",
            "1                No             DSL            Yes  ...              Yes   \n",
            "2                No             DSL            Yes  ...               No   \n",
            "3  No phone service             DSL            Yes  ...              Yes   \n",
            "4                No     Fiber optic             No  ...               No   \n",
            "\n",
            "  TechSupport StreamingTV StreamingMovies        Contract PaperlessBilling  \\\n",
            "0          No          No              No  Month-to-month              Yes   \n",
            "1          No          No              No        One year               No   \n",
            "2          No          No              No  Month-to-month              Yes   \n",
            "3         Yes          No              No        One year               No   \n",
            "4          No          No              No  Month-to-month              Yes   \n",
            "\n",
            "               PaymentMethod MonthlyCharges  TotalCharges Churn  \n",
            "0           Electronic check          29.85         29.85    No  \n",
            "1               Mailed check          56.95        1889.5    No  \n",
            "2               Mailed check          53.85        108.15   Yes  \n",
            "3  Bank transfer (automatic)          42.30       1840.75    No  \n",
            "4           Electronic check          70.70        151.65   Yes  \n",
            "\n",
            "[5 rows x 21 columns]\n"
          ]
        }
      ]
    },
    {
      "cell_type": "code",
      "source": [
        "\n",
        "# First, we identify rows with empty spaces and replace them. A simple approach is to\n",
        "# convert them to NaN (Not a Number) and then fill with 0.\n",
        "df['TotalCharges'] = pd.to_numeric(df['TotalCharges'], errors='coerce')\n",
        "df['TotalCharges'] = df['TotalCharges'].fillna(0)\n"
      ],
      "metadata": {
        "id": "7j_8_EywTRlS"
      },
      "execution_count": 4,
      "outputs": []
    },
    {
      "cell_type": "code",
      "source": [
        "# --- 3. Verification ---\n",
        "print(\"\\n--- Data Info After Cleaning ---\")\n",
        "# Let's check .info() again to confirm 'TotalCharges' is now a numeric type (like float64).\n",
        "df.info()\n",
        "\n",
        "# --- 4. Save the Cleaned Data ---\n",
        "# It's a best practice to save your cleaned data to a new file.\n",
        "df.to_csv('churn_cleaned.csv', index=False)\n",
        "\n",
        "print(\"\\n✅ Successfully cleaned the data and saved it as 'churn_cleaned.csv'\")\n"
      ],
      "metadata": {
        "colab": {
          "base_uri": "https://localhost:8080/"
        },
        "id": "pQr0oRhmTl6L",
        "outputId": "1bbcd272-cd73-4479-bd41-cbec40f5738c"
      },
      "execution_count": 5,
      "outputs": [
        {
          "output_type": "stream",
          "name": "stdout",
          "text": [
            "\n",
            "--- Data Info After Cleaning ---\n",
            "<class 'pandas.core.frame.DataFrame'>\n",
            "RangeIndex: 7043 entries, 0 to 7042\n",
            "Data columns (total 21 columns):\n",
            " #   Column            Non-Null Count  Dtype  \n",
            "---  ------            --------------  -----  \n",
            " 0   customerID        7043 non-null   object \n",
            " 1   gender            7043 non-null   object \n",
            " 2   SeniorCitizen     7043 non-null   int64  \n",
            " 3   Partner           7043 non-null   object \n",
            " 4   Dependents        7043 non-null   object \n",
            " 5   tenure            7043 non-null   int64  \n",
            " 6   PhoneService      7043 non-null   object \n",
            " 7   MultipleLines     7043 non-null   object \n",
            " 8   InternetService   7043 non-null   object \n",
            " 9   OnlineSecurity    7043 non-null   object \n",
            " 10  OnlineBackup      7043 non-null   object \n",
            " 11  DeviceProtection  7043 non-null   object \n",
            " 12  TechSupport       7043 non-null   object \n",
            " 13  StreamingTV       7043 non-null   object \n",
            " 14  StreamingMovies   7043 non-null   object \n",
            " 15  Contract          7043 non-null   object \n",
            " 16  PaperlessBilling  7043 non-null   object \n",
            " 17  PaymentMethod     7043 non-null   object \n",
            " 18  MonthlyCharges    7043 non-null   float64\n",
            " 19  TotalCharges      7043 non-null   float64\n",
            " 20  Churn             7043 non-null   object \n",
            "dtypes: float64(2), int64(2), object(17)\n",
            "memory usage: 1.1+ MB\n",
            "\n",
            "✅ Successfully cleaned the data and saved it as 'churn_cleaned.csv'\n"
          ]
        }
      ]
    },
    {
      "cell_type": "code",
      "source": [
        "import pandas as pd\n",
        "import sqlite3"
      ],
      "metadata": {
        "id": "-xKPY3ykUE-F"
      },
      "execution_count": 6,
      "outputs": []
    },
    {
      "cell_type": "code",
      "source": [
        "# Load the cleaned dataset\n",
        "df = pd.read_csv('churn_cleaned.csv')\n",
        "\n",
        "# Create an in-memory SQLite database\n",
        "# This is a lightweight way to run SQL queries without a full database server\n",
        "conn = sqlite3.connect(':memory:')\n",
        "\n",
        "# Load the DataFrame into the SQLite database as a table named 'churn'\n",
        "df.to_sql('churn', conn, index=False)"
      ],
      "metadata": {
        "colab": {
          "base_uri": "https://localhost:8080/"
        },
        "id": "crO39laZUKD_",
        "outputId": "1c6cec2b-ca1f-4c1e-8b8f-7cc3f132628b"
      },
      "execution_count": 7,
      "outputs": [
        {
          "output_type": "execute_result",
          "data": {
            "text/plain": [
              "7043"
            ]
          },
          "metadata": {},
          "execution_count": 7
        }
      ]
    },
    {
      "cell_type": "code",
      "source": [
        "# Create a cursor object to execute SQL queries\n",
        "cursor = conn.cursor()\n",
        "\n",
        "# --- Now, let's write and execute our SQL queries ---\n",
        "\n",
        "print(\"--- Query 1: Overall Churn Rate ---\")"
      ],
      "metadata": {
        "colab": {
          "base_uri": "https://localhost:8080/"
        },
        "id": "uEUdMG89UPLo",
        "outputId": "81b3bc0c-6eca-44c4-dcb4-1456a6e6dbb9"
      },
      "execution_count": 8,
      "outputs": [
        {
          "output_type": "stream",
          "name": "stdout",
          "text": [
            "--- Query 1: Overall Churn Rate ---\n"
          ]
        }
      ]
    },
    {
      "cell_type": "code",
      "source": [
        "# This query uses a CASE statement to create a 'Churned' column (1 for Yes, 0 for No)\n",
        "# and then calculates the average to get the churn rate.\n",
        "query1 = \"\"\"\n",
        "SELECT AVG(CASE WHEN Churn = 'Yes' THEN 1.0 ELSE 0.0 END) * 100 AS ChurnRate\n",
        "FROM churn;\n",
        "\"\"\"\n",
        "print(pd.read_sql_query(query1, conn))"
      ],
      "metadata": {
        "colab": {
          "base_uri": "https://localhost:8080/"
        },
        "id": "AyLgPo7LUXXX",
        "outputId": "88673b3a-08ad-4593-c61a-08baacca3406"
      },
      "execution_count": 9,
      "outputs": [
        {
          "output_type": "stream",
          "name": "stdout",
          "text": [
            "   ChurnRate\n",
            "0  26.536987\n"
          ]
        }
      ]
    },
    {
      "cell_type": "code",
      "source": [
        "print(\"\\n--- Query 2: Churn Rate by Contract Type ---\")\n",
        "# Here, we GROUP BY the contract type to see how churn differs for each.\n",
        "query2 = \"\"\"\n",
        "SELECT\n",
        "    Contract,\n",
        "    AVG(CASE WHEN Churn = 'Yes' THEN 1.0 ELSE 0.0 END) * 100 AS ChurnRate\n",
        "FROM churn\n",
        "GROUP BY Contract\n",
        "ORDER BY ChurnRate DESC;\n",
        "\"\"\"\n",
        "print(pd.read_sql_query(query2, conn))\n"
      ],
      "metadata": {
        "colab": {
          "base_uri": "https://localhost:8080/"
        },
        "id": "lPoPOyAyUeHN",
        "outputId": "c8a45f6d-59dd-4ac0-c9ad-32d9295f314f"
      },
      "execution_count": 10,
      "outputs": [
        {
          "output_type": "stream",
          "name": "stdout",
          "text": [
            "\n",
            "--- Query 2: Churn Rate by Contract Type ---\n",
            "         Contract  ChurnRate\n",
            "0  Month-to-month  42.709677\n",
            "1        One year  11.269518\n",
            "2        Two year   2.831858\n"
          ]
        }
      ]
    },
    {
      "cell_type": "code",
      "source": [
        "print(\"\\n--- Query 3: Churn Rate for Customers Without Online Security ---\")\n",
        "# This query filters for customers without Online Security and calculates their churn rate.\n",
        "query3 = \"\"\"\n",
        "SELECT\n",
        "    'No Online Security' AS Segment,\n",
        "    AVG(CASE WHEN Churn = 'Yes' THEN 1.0 ELSE 0.0 END) * 100 AS ChurnRate\n",
        "FROM churn\n",
        "WHERE OnlineSecurity = 'No';\n",
        "\"\"\"\n",
        "print(pd.read_sql_query(query3, conn))"
      ],
      "metadata": {
        "colab": {
          "base_uri": "https://localhost:8080/"
        },
        "id": "TpvC4E3UUjbT",
        "outputId": "789a08b3-9338-4673-d437-ca8fe0bfe5ee"
      },
      "execution_count": 11,
      "outputs": [
        {
          "output_type": "stream",
          "name": "stdout",
          "text": [
            "\n",
            "--- Query 3: Churn Rate for Customers Without Online Security ---\n",
            "              Segment  ChurnRate\n",
            "0  No Online Security  41.766724\n"
          ]
        }
      ]
    },
    {
      "cell_type": "code",
      "source": [
        "print(\"\\n--- Query 4: Churn Rate by Customer Tenure ---\")\n",
        "# This is a powerful technique. We use a CASE statement to group customers\n",
        "# into 'bins' based on how long they've been a customer. This helps\n",
        "# see if new customers are more likely to churn than loyal ones.\n",
        "query4 = \"\"\"\n",
        "SELECT\n",
        "    CASE\n",
        "        WHEN tenure <= 12 THEN 'New (0-12 Months)'\n",
        "        WHEN tenure > 12 AND tenure <= 48 THEN 'Established (1-4 Years)'\n",
        "        ELSE 'Loyal (4+ Years)'\n",
        "    END AS TenureGroup,\n",
        "    AVG(CASE WHEN Churn = 'Yes' THEN 1.0 ELSE 0.0 END) * 100 AS ChurnRate\n",
        "FROM churn\n",
        "GROUP BY TenureGroup\n",
        "ORDER BY ChurnRate DESC;\n",
        "\"\"\"\n",
        "print(pd.read_sql_query(query4, conn))"
      ],
      "metadata": {
        "colab": {
          "base_uri": "https://localhost:8080/"
        },
        "id": "_SHpNCNPINTe",
        "outputId": "03b0b88b-e213-4261-b13e-88a14b386c87"
      },
      "execution_count": 12,
      "outputs": [
        {
          "output_type": "stream",
          "name": "stdout",
          "text": [
            "\n",
            "--- Query 4: Churn Rate by Customer Tenure ---\n",
            "               TenureGroup  ChurnRate\n",
            "0        New (0-12 Months)  47.438243\n",
            "1  Established (1-4 Years)  23.644003\n",
            "2         Loyal (4+ Years)   9.513176\n"
          ]
        }
      ]
    },
    {
      "cell_type": "code",
      "source": [
        "print(\"\\n--- Query 5: Churn Rate of High-Value Customers ---\")\n",
        "# This query filters for customers who pay more than $70/month to see\n",
        "# if the company is losing its high-paying customers.\n",
        "query5 = \"\"\"\n",
        "SELECT\n",
        "    'High-Value (Charges > $70)' AS Segment,\n",
        "    AVG(CASE WHEN Churn = 'Yes' THEN 1.0 ELSE 0.0 END) * 100 AS ChurnRate\n",
        "FROM churn\n",
        "WHERE MonthlyCharges > 70;\n",
        "\"\"\"\n",
        "print(pd.read_sql_query(query5, conn))"
      ],
      "metadata": {
        "colab": {
          "base_uri": "https://localhost:8080/"
        },
        "id": "CSe2k3_fIXS0",
        "outputId": "9e8d3261-151f-40a3-ac89-1601de54d382"
      },
      "execution_count": 13,
      "outputs": [
        {
          "output_type": "stream",
          "name": "stdout",
          "text": [
            "\n",
            "--- Query 5: Churn Rate of High-Value Customers ---\n",
            "                      Segment  ChurnRate\n",
            "0  High-Value (Charges > $70)  35.361429\n"
          ]
        }
      ]
    },
    {
      "cell_type": "code",
      "source": [
        "print(\"\\n--- Query 6: Profile of At-Risk Customers ---\")\n",
        "# This query combines multiple risk factors. We are filtering for the segment\n",
        "# we know is most vulnerable: Month-to-month customers who also lack Online Security.\n",
        "query6 = \"\"\"\n",
        "SELECT\n",
        "    'At-Risk: M2M & No Online Security' AS Segment,\n",
        "    AVG(CASE WHEN Churn = 'Yes' THEN 1.0 ELSE 0.0 END) * 100 AS ChurnRate\n",
        "FROM churn\n",
        "WHERE Contract = 'Month-to-month' AND OnlineSecurity = 'No';\n",
        "\"\"\"\n",
        "print(pd.read_sql_query(query6, conn))"
      ],
      "metadata": {
        "colab": {
          "base_uri": "https://localhost:8080/"
        },
        "id": "MTzOr223IbwC",
        "outputId": "f16bb327-44c7-4e80-9756-5f3a3909a74b"
      },
      "execution_count": 14,
      "outputs": [
        {
          "output_type": "stream",
          "name": "stdout",
          "text": [
            "\n",
            "--- Query 6: Profile of At-Risk Customers ---\n",
            "                             Segment  ChurnRate\n",
            "0  At-Risk: M2M & No Online Security   51.04523\n"
          ]
        }
      ]
    }
  ]
}